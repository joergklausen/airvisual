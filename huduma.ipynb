{
 "cells": [
  {
   "cell_type": "code",
   "execution_count": 23,
   "metadata": {},
   "outputs": [
    {
     "data": {
      "text/html": [
       "<div><style>\n",
       ".dataframe > thead > tr,\n",
       ".dataframe > tbody > tr {\n",
       "  text-align: right;\n",
       "  white-space: pre-wrap;\n",
       "}\n",
       "</style>\n",
       "<small>shape: (5, 2)</small><table border=\"1\" class=\"dataframe\"><thead><tr><th>Date</th><th>Voltage</th></tr><tr><td>datetime[μs]</td><td>f64</td></tr></thead><tbody><tr><td>2024-05-01 00:00:00</td><td>11.61</td></tr><tr><td>2024-05-01 00:10:00</td><td>11.43</td></tr><tr><td>2024-05-01 00:20:00</td><td>11.53</td></tr><tr><td>2024-05-01 00:30:00</td><td>11.53</td></tr><tr><td>2024-05-01 00:40:00</td><td>11.53</td></tr></tbody></table></div>"
      ],
      "text/plain": [
       "shape: (5, 2)\n",
       "┌─────────────────────┬─────────┐\n",
       "│ Date                ┆ Voltage │\n",
       "│ ---                 ┆ ---     │\n",
       "│ datetime[μs]        ┆ f64     │\n",
       "╞═════════════════════╪═════════╡\n",
       "│ 2024-05-01 00:00:00 ┆ 11.61   │\n",
       "│ 2024-05-01 00:10:00 ┆ 11.43   │\n",
       "│ 2024-05-01 00:20:00 ┆ 11.53   │\n",
       "│ 2024-05-01 00:30:00 ┆ 11.53   │\n",
       "│ 2024-05-01 00:40:00 ┆ 11.53   │\n",
       "└─────────────────────┴─────────┘"
      ]
     },
     "execution_count": 23,
     "metadata": {},
     "output_type": "execute_result"
    }
   ],
   "source": [
    "import polars as pl\n",
    "\n",
    "battery = \"data/huduma_centre_battery_voltage_01May24-16May24.csv\"\n",
    "iqair = \"data/IQAir_raw_twrgmdgz53t_15May23-16May24_hourly.csv\"\n",
    "\n",
    "df_battery = pl.read_csv(source=battery, try_parse_dates=True)\n",
    "df_battery = df_battery.with_columns(pl.col(\"Date\").str.strptime(format=\"%d.%m.%Y %H:%M:%S\", dtype=pl.Datetime))\n",
    "df_battery.head()"
   ]
  },
  {
   "cell_type": "code",
   "execution_count": 33,
   "metadata": {},
   "outputs": [
    {
     "data": {
      "text/html": [
       "<div><style>\n",
       ".dataframe > thead > tr,\n",
       ".dataframe > tbody > tr {\n",
       "  text-align: right;\n",
       "  white-space: pre-wrap;\n",
       "}\n",
       "</style>\n",
       "<small>shape: (5, 2)</small><table border=\"1\" class=\"dataframe\"><thead><tr><th>Date</th><th>mean_voltage</th></tr><tr><td>datetime[μs]</td><td>f64</td></tr></thead><tbody><tr><td>2024-04-30 09:00:00</td><td>12.092</td></tr><tr><td>2024-04-30 10:00:00</td><td>12.21</td></tr><tr><td>2024-04-30 11:00:00</td><td>12.403333</td></tr><tr><td>2024-04-30 12:00:00</td><td>12.473333</td></tr><tr><td>2024-04-30 13:00:00</td><td>12.508333</td></tr></tbody></table></div>"
      ],
      "text/plain": [
       "shape: (5, 2)\n",
       "┌─────────────────────┬──────────────┐\n",
       "│ Date                ┆ mean_voltage │\n",
       "│ ---                 ┆ ---          │\n",
       "│ datetime[μs]        ┆ f64          │\n",
       "╞═════════════════════╪══════════════╡\n",
       "│ 2024-04-30 09:00:00 ┆ 12.092       │\n",
       "│ 2024-04-30 10:00:00 ┆ 12.21        │\n",
       "│ 2024-04-30 11:00:00 ┆ 12.403333    │\n",
       "│ 2024-04-30 12:00:00 ┆ 12.473333    │\n",
       "│ 2024-04-30 13:00:00 ┆ 12.508333    │\n",
       "└─────────────────────┴──────────────┘"
      ]
     },
     "execution_count": 33,
     "metadata": {},
     "output_type": "execute_result"
    }
   ],
   "source": [
    "df_battery = df_battery.sort(\"Date\")\n",
    "df_battery_1h = df_battery.group_by_dynamic(\"Date\", every=\"1h\").agg(pl.col(\"Voltage\").mean().alias(\"mean_voltage\"))\n",
    "df_battery_1h.head()"
   ]
  },
  {
   "cell_type": "code",
   "execution_count": 37,
   "metadata": {},
   "outputs": [
    {
     "data": {
      "text/html": [
       "<div><style>\n",
       ".dataframe > thead > tr,\n",
       ".dataframe > tbody > tr {\n",
       "  text-align: right;\n",
       "  white-space: pre-wrap;\n",
       "}\n",
       "</style>\n",
       "<small>shape: (5, 26)</small><table border=\"1\" class=\"dataframe\"><thead><tr><th>Source</th><th>Datetime_start</th><th>Datetime_end</th><th>AQI US</th><th>AQI CN</th><th>PM2.5 (ug/m3)</th><th>PM10 (ug/m3)</th><th>PM1 (ug/m3)</th><th>CO2 (ppm)</th><th>Temperature (Celsius)</th><th>Temperature (Fahrenheit)</th><th>Humidity (%)</th><th>Outdoor PM2.5 (ug/m3)</th><th>Pressure (pascal)</th><th>Particle Count</th><th>Fan Speed Level</th><th>slot1.pm25</th><th>slot1.pm1</th><th>slot1.pm10</th><th>slot2.pm25</th><th>slot2.pm1</th><th>slot2.pm10</th><th>slot3.co2</th><th>slot4.pm25</th><th>slot4.pm1</th><th>slot4.pm10</th></tr><tr><td>str</td><td>datetime[μs]</td><td>datetime[μs]</td><td>i64</td><td>i64</td><td>i64</td><td>i64</td><td>i64</td><td>i64</td><td>i64</td><td>f64</td><td>i64</td><td>str</td><td>i64</td><td>str</td><td>str</td><td>i64</td><td>i64</td><td>i64</td><td>i64</td><td>i64</td><td>i64</td><td>i64</td><td>i64</td><td>i64</td><td>i64</td></tr></thead><tbody><tr><td>&quot;twrgmdgz53t&quot;</td><td>2023-07-11 16:00:00</td><td>2023-07-11 16:59:59</td><td>55</td><td>16</td><td>11</td><td>18</td><td>8</td><td>849</td><td>25</td><td>77.0</td><td>63</td><td>null</td><td>96111</td><td>null</td><td>null</td><td>14</td><td>11</td><td>22</td><td>11</td><td>8</td><td>17</td><td>849</td><td>10</td><td>8</td><td>17</td></tr><tr><td>&quot;twrgmdgz53t&quot;</td><td>2023-07-11 17:00:00</td><td>2023-07-11 17:59:59</td><td>56</td><td>17</td><td>12</td><td>19</td><td>8</td><td>901</td><td>26</td><td>78.8</td><td>61</td><td>null</td><td>95968</td><td>null</td><td>null</td><td>14</td><td>11</td><td>22</td><td>11</td><td>8</td><td>17</td><td>901</td><td>12</td><td>8</td><td>20</td></tr><tr><td>&quot;twrgmdgz53t&quot;</td><td>2023-07-11 18:00:00</td><td>2023-07-11 18:59:59</td><td>53</td><td>14</td><td>10</td><td>17</td><td>8</td><td>923</td><td>26</td><td>78.8</td><td>61</td><td>null</td><td>95874</td><td>null</td><td>null</td><td>13</td><td>10</td><td>20</td><td>10</td><td>7</td><td>16</td><td>923</td><td>10</td><td>8</td><td>16</td></tr><tr><td>&quot;twrgmdgz53t&quot;</td><td>2023-07-11 19:00:00</td><td>2023-07-11 19:59:59</td><td>50</td><td>13</td><td>9</td><td>15</td><td>7</td><td>899</td><td>26</td><td>78.8</td><td>61</td><td>null</td><td>96153</td><td>null</td><td>null</td><td>12</td><td>9</td><td>19</td><td>9</td><td>6</td><td>14</td><td>899</td><td>9</td><td>6</td><td>14</td></tr><tr><td>&quot;twrgmdgz53t&quot;</td><td>2023-07-11 20:00:00</td><td>2023-07-11 20:59:59</td><td>28</td><td>7</td><td>5</td><td>8</td><td>3</td><td>684</td><td>26</td><td>78.8</td><td>60</td><td>null</td><td>96718</td><td>null</td><td>null</td><td>7</td><td>5</td><td>11</td><td>5</td><td>3</td><td>8</td><td>684</td><td>5</td><td>3</td><td>8</td></tr></tbody></table></div>"
      ],
      "text/plain": [
       "shape: (5, 26)\n",
       "┌────────────┬────────────┬───────────┬────────┬───┬───────────┬───────────┬───────────┬───────────┐\n",
       "│ Source     ┆ Datetime_s ┆ Datetime_ ┆ AQI US ┆ … ┆ slot3.co2 ┆ slot4.pm2 ┆ slot4.pm1 ┆ slot4.pm1 │\n",
       "│ ---        ┆ tart       ┆ end       ┆ ---    ┆   ┆ ---       ┆ 5         ┆ ---       ┆ 0         │\n",
       "│ str        ┆ ---        ┆ ---       ┆ i64    ┆   ┆ i64       ┆ ---       ┆ i64       ┆ ---       │\n",
       "│            ┆ datetime[μ ┆ datetime[ ┆        ┆   ┆           ┆ i64       ┆           ┆ i64       │\n",
       "│            ┆ s]         ┆ μs]       ┆        ┆   ┆           ┆           ┆           ┆           │\n",
       "╞════════════╪════════════╪═══════════╪════════╪═══╪═══════════╪═══════════╪═══════════╪═══════════╡\n",
       "│ twrgmdgz53 ┆ 2023-07-11 ┆ 2023-07-1 ┆ 55     ┆ … ┆ 849       ┆ 10        ┆ 8         ┆ 17        │\n",
       "│ t          ┆ 16:00:00   ┆ 1         ┆        ┆   ┆           ┆           ┆           ┆           │\n",
       "│            ┆            ┆ 16:59:59  ┆        ┆   ┆           ┆           ┆           ┆           │\n",
       "│ twrgmdgz53 ┆ 2023-07-11 ┆ 2023-07-1 ┆ 56     ┆ … ┆ 901       ┆ 12        ┆ 8         ┆ 20        │\n",
       "│ t          ┆ 17:00:00   ┆ 1         ┆        ┆   ┆           ┆           ┆           ┆           │\n",
       "│            ┆            ┆ 17:59:59  ┆        ┆   ┆           ┆           ┆           ┆           │\n",
       "│ twrgmdgz53 ┆ 2023-07-11 ┆ 2023-07-1 ┆ 53     ┆ … ┆ 923       ┆ 10        ┆ 8         ┆ 16        │\n",
       "│ t          ┆ 18:00:00   ┆ 1         ┆        ┆   ┆           ┆           ┆           ┆           │\n",
       "│            ┆            ┆ 18:59:59  ┆        ┆   ┆           ┆           ┆           ┆           │\n",
       "│ twrgmdgz53 ┆ 2023-07-11 ┆ 2023-07-1 ┆ 50     ┆ … ┆ 899       ┆ 9         ┆ 6         ┆ 14        │\n",
       "│ t          ┆ 19:00:00   ┆ 1         ┆        ┆   ┆           ┆           ┆           ┆           │\n",
       "│            ┆            ┆ 19:59:59  ┆        ┆   ┆           ┆           ┆           ┆           │\n",
       "│ twrgmdgz53 ┆ 2023-07-11 ┆ 2023-07-1 ┆ 28     ┆ … ┆ 684       ┆ 5         ┆ 3         ┆ 8         │\n",
       "│ t          ┆ 20:00:00   ┆ 1         ┆        ┆   ┆           ┆           ┆           ┆           │\n",
       "│            ┆            ┆ 20:59:59  ┆        ┆   ┆           ┆           ┆           ┆           │\n",
       "└────────────┴────────────┴───────────┴────────┴───┴───────────┴───────────┴───────────┴───────────┘"
      ]
     },
     "execution_count": 37,
     "metadata": {},
     "output_type": "execute_result"
    }
   ],
   "source": [
    "df_iqair = pl.read_csv(source=iqair, try_parse_dates=True)\n",
    "\n",
    "# shift timestamps to UTC\n",
    "df_iqair = df_iqair.with_columns(pl.col(\"Datetime_start\") - pl.duration(hours=2).alias(\"Date\"),\n",
    "                                 (pl.col(\"Datetime_end\") - pl.duration(hours=2)),\n",
    "                                 )\n",
    "df_iqair = df_iqair.drop([\"Timezone\", \"CO (ppm)\", \"TVOC (index)\", \"NOx (index)\", \"O3 (ug/m3)\", \"HCHO (ppb)\", \"TVOC (ppb)\"])\n",
    "df_iqair.head()\n",
    "# df_iqair.schema"
   ]
  },
  {
   "cell_type": "code",
   "execution_count": 41,
   "metadata": {},
   "outputs": [
    {
     "ename": "ModuleUpgradeRequired",
     "evalue": "hvplot>=0.9.1 is required for `.plot`",
     "output_type": "error",
     "traceback": [
      "\u001b[0;31m---------------------------------------------------------------------------\u001b[0m",
      "\u001b[0;31mModuleUpgradeRequired\u001b[0m                     Traceback (most recent call last)",
      "\u001b[0;32m/tmp/ipykernel_1753035/3007274534.py\u001b[0m in \u001b[0;36m?\u001b[0;34m()\u001b[0m\n\u001b[1;32m      1\u001b[0m \u001b[0mdf\u001b[0m \u001b[0;34m=\u001b[0m \u001b[0mpl\u001b[0m\u001b[0;34m.\u001b[0m\u001b[0mconcat\u001b[0m\u001b[0;34m(\u001b[0m\u001b[0;34m[\u001b[0m\u001b[0mdf_battery_1h\u001b[0m\u001b[0;34m,\u001b[0m \u001b[0mdf_iqair\u001b[0m\u001b[0;34m]\u001b[0m\u001b[0;34m,\u001b[0m \u001b[0mhow\u001b[0m\u001b[0;34m=\u001b[0m\u001b[0;34m\"diagonal\"\u001b[0m\u001b[0;34m)\u001b[0m\u001b[0;34m\u001b[0m\u001b[0;34m\u001b[0m\u001b[0m\n\u001b[0;32m----> 2\u001b[0;31m \u001b[0mdf\u001b[0m\u001b[0;34m.\u001b[0m\u001b[0mplot\u001b[0m\u001b[0;34m.\u001b[0m\u001b[0mscatter\u001b[0m\u001b[0;34m(\u001b[0m\u001b[0mx\u001b[0m\u001b[0;34m=\u001b[0m\u001b[0;34m\"Date\"\u001b[0m\u001b[0;34m,\u001b[0m \u001b[0my\u001b[0m\u001b[0;34m=\u001b[0m\u001b[0;34m[\u001b[0m\u001b[0;34m\"mean_voltage\"\u001b[0m\u001b[0;34m,\u001b[0m \u001b[0;34m\"Temperature (Celcius)\"\u001b[0m\u001b[0;34m]\u001b[0m\u001b[0;34m)\u001b[0m\u001b[0;34m\u001b[0m\u001b[0;34m\u001b[0m\u001b[0m\n\u001b[0m",
      "\u001b[0;32m~/.pyenv/versions/3.11.7/envs/gawkenya/lib/python3.11/site-packages/polars/dataframe/frame.py\u001b[0m in \u001b[0;36m?\u001b[0;34m(self)\u001b[0m\n\u001b[1;32m   1156\u001b[0m         if not _HVPLOT_AVAILABLE or parse_version(hvplot.__version__) < parse_version(\n\u001b[1;32m   1157\u001b[0m             \u001b[0;34m\"0.9.1\"\u001b[0m\u001b[0;34m\u001b[0m\u001b[0;34m\u001b[0m\u001b[0m\n\u001b[1;32m   1158\u001b[0m         ):\n\u001b[1;32m   1159\u001b[0m             \u001b[0mmsg\u001b[0m \u001b[0;34m=\u001b[0m \u001b[0;34m\"hvplot>=0.9.1 is required for `.plot`\"\u001b[0m\u001b[0;34m\u001b[0m\u001b[0;34m\u001b[0m\u001b[0m\n\u001b[0;32m-> 1160\u001b[0;31m             \u001b[0;32mraise\u001b[0m \u001b[0mModuleUpgradeRequired\u001b[0m\u001b[0;34m(\u001b[0m\u001b[0mmsg\u001b[0m\u001b[0;34m)\u001b[0m\u001b[0;34m\u001b[0m\u001b[0;34m\u001b[0m\u001b[0m\n\u001b[0m\u001b[1;32m   1161\u001b[0m         \u001b[0mhvplot\u001b[0m\u001b[0;34m.\u001b[0m\u001b[0mpost_patch\u001b[0m\u001b[0;34m(\u001b[0m\u001b[0;34m)\u001b[0m\u001b[0;34m\u001b[0m\u001b[0;34m\u001b[0m\u001b[0m\n\u001b[1;32m   1162\u001b[0m         \u001b[0;32mreturn\u001b[0m \u001b[0mhvplot\u001b[0m\u001b[0;34m.\u001b[0m\u001b[0mplotting\u001b[0m\u001b[0;34m.\u001b[0m\u001b[0mcore\u001b[0m\u001b[0;34m.\u001b[0m\u001b[0mhvPlotTabularPolars\u001b[0m\u001b[0;34m(\u001b[0m\u001b[0mself\u001b[0m\u001b[0;34m)\u001b[0m\u001b[0;34m\u001b[0m\u001b[0;34m\u001b[0m\u001b[0m\n",
      "\u001b[0;31mModuleUpgradeRequired\u001b[0m: hvplot>=0.9.1 is required for `.plot`"
     ]
    }
   ],
   "source": [
    "df = pl.concat([df_battery_1h, df_iqair], how=\"diagonal\")\n",
    "df.plot.scatter(x=\"Date\", y=[\"mean_voltage\", \"Temperature (Celcius)\"])"
   ]
  }
 ],
 "metadata": {
  "kernelspec": {
   "display_name": "gawkenya",
   "language": "python",
   "name": "python3"
  },
  "language_info": {
   "codemirror_mode": {
    "name": "ipython",
    "version": 3
   },
   "file_extension": ".py",
   "mimetype": "text/x-python",
   "name": "python",
   "nbconvert_exporter": "python",
   "pygments_lexer": "ipython3",
   "version": "3.11.7"
  }
 },
 "nbformat": 4,
 "nbformat_minor": 2
}
