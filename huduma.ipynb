{
 "cells": [
  {
   "cell_type": "code",
   "execution_count": null,
   "metadata": {},
   "outputs": [],
   "source": [
    "import polars as pl\n",
    "\n",
    "battery = \"data/huduma_centre_battery_voltage_01May24-16May24.csv\"\n",
    "iqair = \"data/IQAir_raw_twrgmdgz53t_16Apr24-17May24_hourly.csv\"\n",
    "\n",
    "df_battery = pl.read_csv(source=battery, try_parse_dates=True)\n",
    "df_battery = df_battery.with_columns(pl.col(\"Date\").str.strptime(format=\"%d.%m.%Y %H:%M:%S\", dtype=pl.Datetime))\n",
    "df_battery = df_battery.sort(\"Date\")\n",
    "df_battery_1h = df_battery.group_by_dynamic(\"Date\", every=\"1h\").agg(pl.col(\"Voltage\").mean().alias(\"Battery (V)\"))\n",
    "df_battery_1h.describe()"
   ]
  },
  {
   "cell_type": "code",
   "execution_count": null,
   "metadata": {},
   "outputs": [],
   "source": [
    "df_iqair = pl.read_csv(source=iqair, try_parse_dates=True)\n",
    "\n",
    "# shift timestamps to UTC\n",
    "df_iqair = df_iqair.with_columns((pl.col(\"Datetime_start\") - pl.duration(hours=2)).alias(\"Date\"),\n",
    "                                 (pl.col(\"Datetime_end\") - pl.duration(hours=2)),\n",
    "                                 )\n",
    "df_iqair = df_iqair.drop([\"Timezone\", \"CO (ppm)\", \"TVOC (index)\", \"NOx (index)\", \"O3 (ug/m3)\", \"HCHO (ppb)\", \"TVOC (ppb)\"])\n",
    "df_iqair.describe()\n",
    "# df_iqair.schema"
   ]
  },
  {
   "cell_type": "code",
   "execution_count": null,
   "metadata": {},
   "outputs": [],
   "source": [
    "df = pl.concat([df_battery_1h, df_iqair], how=\"diagonal\")\n",
    "display(df)\n",
    "df.plot.scatter(x=\"Date\", y=[\"Temperature (Celsius)\",\"Battery (V)\", ])"
   ]
  }
 ],
 "metadata": {
  "kernelspec": {
   "display_name": "gawkenya",
   "language": "python",
   "name": "python3"
  },
  "language_info": {
   "codemirror_mode": {
    "name": "ipython",
    "version": 3
   },
   "file_extension": ".py",
   "mimetype": "text/x-python",
   "name": "python",
   "nbconvert_exporter": "python",
   "pygments_lexer": "ipython3",
   "version": "3.11.7"
  }
 },
 "nbformat": 4,
 "nbformat_minor": 2
}
